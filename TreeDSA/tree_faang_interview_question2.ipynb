{
 "cells": [
  {
   "cell_type": "code",
   "execution_count": 2,
   "id": "ca1d4005",
   "metadata": {},
   "outputs": [],
   "source": [
    "from collections import deque\n",
    "from tree_traversal import (\n",
    "    build_from_level_order,\n",
    "    level_order_traversal\n",
    ")"
   ]
  },
  {
   "cell_type": "code",
   "execution_count": 27,
   "id": "1ec1bacd",
   "metadata": {},
   "outputs": [],
   "source": [
    "# zigzag tree traversal\n",
    "def zigzag_tree_traversal(root):\n",
    "\n",
    "    if root == None:\n",
    "        return []\n",
    "    d = deque()\n",
    "    d.append(root)\n",
    "    result = []\n",
    "\n",
    "    left_to_right = True\n",
    "\n",
    "    while(d):\n",
    "        ans = []\n",
    "        size = len(d)\n",
    "        for index in range(0, size):\n",
    "            node = d.popleft()\n",
    "            entry_index = index if left_to_right else size - index - 1\n",
    "            ans.insert(entry_index, node.data)\n",
    "\n",
    "            if(node.left): \n",
    "                d.append(node.left)\n",
    "            if(node.right):\n",
    "                d.append(node.right)\n",
    "        left_to_right = not left_to_right\n",
    "\n",
    "        result.extend(ans)\n",
    "    \n",
    "    return result\n",
    "\n"
   ]
  },
  {
   "cell_type": "code",
   "execution_count": 28,
   "id": "843411c6",
   "metadata": {},
   "outputs": [
    {
     "name": "stdout",
     "output_type": "stream",
     "text": [
      "1 \n",
      "2 3 \n",
      "4 5 \n",
      "Tree Zig Zag Traversal :  [1, 3, 2, 4, 5]\n"
     ]
    }
   ],
   "source": [
    "root = build_from_level_order()\n",
    "level_order_traversal(root)\n",
    "\n",
    "ans = zigzag_tree_traversal(root)\n",
    "\n",
    "print(\"Tree Zig Zag Traversal : \", ans)\n"
   ]
  },
  {
   "cell_type": "code",
   "execution_count": null,
   "id": "71acf9f3",
   "metadata": {},
   "outputs": [],
   "source": [
    "# boundary tree traversal\n",
    "\n",
    "def left_boundary_traversal(root, ans:list):\n",
    "    if(root == None or (root.left == None and root.right == None)):\n",
    "        return \n",
    "    ans.append(root.data)\n",
    "    if(root.left):\n",
    "        left_boundary_traversal(root.left, ans)\n",
    "    else:\n",
    "        left_boundary_traversal(root.right, ans)\n",
    "\n",
    "\n",
    "\n",
    "def leaf_boundary_traversal(root, ans:list):\n",
    "    if(root== None):\n",
    "        return\n",
    "    if(root.left == None and root.right == None):\n",
    "        ans.append(root.data)\n",
    "    leaf_boundary_traversal(root.left, ans)\n",
    "    leaf_boundary_traversal(root.right, ans)\n",
    "\n",
    "def right_boundary_traversal(root, ans:list):\n",
    "    if(root == None or (root.left == None and root.right == None)):\n",
    "        return\n",
    "    \n",
    "    if(root.right):\n",
    "        right_boundary_traversal(root.right, ans)\n",
    "    else:\n",
    "        right_boundary_traversal(root.left, ans)\n",
    "    ans.append(root.data)\n",
    "    \n",
    "    \n",
    "\n",
    "def boundary_tree_traversal(root):\n",
    "    ans = []\n",
    "    if(root == None):\n",
    "        return ans\n",
    "    ans.append(root.data)\n",
    "    \n",
    "    # left boundary nodes data insert\n",
    "    left_boundary_traversal(root.left, ans)\n",
    "\n",
    "    # leaf nodes data insert\n",
    "    leaf_boundary_traversal(root.left, ans)\n",
    "    leaf_boundary_traversal(root.right, ans)\n",
    "\n",
    "    # right boundary nodes data insert\n",
    "    right_boundary_traversal(root.right, ans)\n",
    "    \n",
    "    return ans"
   ]
  },
  {
   "cell_type": "code",
   "execution_count": null,
   "id": "d053b36d",
   "metadata": {},
   "outputs": [],
   "source": []
  },
  {
   "cell_type": "code",
   "execution_count": 41,
   "id": "5545e060",
   "metadata": {},
   "outputs": [
    {
     "name": "stdout",
     "output_type": "stream",
     "text": [
      "1 \n",
      "2 3 \n",
      "4 5 6 7 \n",
      "Boundary Tree Traversal:  [1, 2, 4, 5, 6, 7, 3]\n"
     ]
    }
   ],
   "source": [
    "root = build_from_level_order()\n",
    "level_order_traversal(root)\n",
    "\n",
    "ans = boundary_tree_traversal(root)\n",
    "print(\"Boundary Tree Traversal: \", ans)"
   ]
  },
  {
   "cell_type": "code",
   "execution_count": null,
   "id": "e4043e56",
   "metadata": {},
   "outputs": [],
   "source": []
  }
 ],
 "metadata": {
  "kernelspec": {
   "display_name": "base",
   "language": "python",
   "name": "python3"
  },
  "language_info": {
   "codemirror_mode": {
    "name": "ipython",
    "version": 3
   },
   "file_extension": ".py",
   "mimetype": "text/x-python",
   "name": "python",
   "nbconvert_exporter": "python",
   "pygments_lexer": "ipython3",
   "version": "3.12.4"
  }
 },
 "nbformat": 4,
 "nbformat_minor": 5
}
